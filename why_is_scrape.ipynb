{
 "cells": [
  {
   "cell_type": "code",
   "execution_count": 102,
   "id": "4e2dc63b",
   "metadata": {},
   "outputs": [],
   "source": [
    "import pandas as pd\n",
    "import numpy as np\n",
    "\n",
    "import requests\n",
    "from bs4 import BeautifulSoup"
   ]
  },
  {
   "cell_type": "code",
   "execution_count": 103,
   "id": "70f247e1",
   "metadata": {},
   "outputs": [
    {
     "data": {
      "text/html": [
       "<div>\n",
       "<style scoped>\n",
       "    .dataframe tbody tr th:only-of-type {\n",
       "        vertical-align: middle;\n",
       "    }\n",
       "\n",
       "    .dataframe tbody tr th {\n",
       "        vertical-align: top;\n",
       "    }\n",
       "\n",
       "    .dataframe thead th {\n",
       "        text-align: right;\n",
       "    }\n",
       "</style>\n",
       "<table border=\"1\" class=\"dataframe\">\n",
       "  <thead>\n",
       "    <tr style=\"text-align: right;\">\n",
       "      <th></th>\n",
       "      <th>Diploma Title</th>\n",
       "    </tr>\n",
       "  </thead>\n",
       "  <tbody>\n",
       "    <tr>\n",
       "      <th>0</th>\n",
       "      <td>Black Diaspora &amp; African American Studies</td>\n",
       "    </tr>\n",
       "    <tr>\n",
       "      <th>1</th>\n",
       "      <td>Applied Science (Applied Mechanics)</td>\n",
       "    </tr>\n",
       "    <tr>\n",
       "      <th>2</th>\n",
       "      <td>Bioengineering</td>\n",
       "    </tr>\n",
       "    <tr>\n",
       "      <th>3</th>\n",
       "      <td>Engineering (Chemical Engineering)</td>\n",
       "    </tr>\n",
       "    <tr>\n",
       "      <th>4</th>\n",
       "      <td>Engineering (Engineering Science)</td>\n",
       "    </tr>\n",
       "    <tr>\n",
       "      <th>...</th>\n",
       "      <td>...</td>\n",
       "    </tr>\n",
       "    <tr>\n",
       "      <th>734</th>\n",
       "      <td>Art, Theory, and Criticism with a Specializati...</td>\n",
       "    </tr>\n",
       "    <tr>\n",
       "      <th>735</th>\n",
       "      <td>Art, Theory, and Criticism with a Specializati...</td>\n",
       "    </tr>\n",
       "    <tr>\n",
       "      <th>736</th>\n",
       "      <td>Art, Theory, and Criticism with a Specializati...</td>\n",
       "    </tr>\n",
       "    <tr>\n",
       "      <th>737</th>\n",
       "      <td>Women's Studies</td>\n",
       "    </tr>\n",
       "    <tr>\n",
       "      <th>738</th>\n",
       "      <td>Women's Studies</td>\n",
       "    </tr>\n",
       "  </tbody>\n",
       "</table>\n",
       "<p>739 rows × 1 columns</p>\n",
       "</div>"
      ],
      "text/plain": [
       "                                         Diploma Title\n",
       "0            Black Diaspora & African American Studies\n",
       "1                  Applied Science (Applied Mechanics)\n",
       "2                                       Bioengineering\n",
       "3                   Engineering (Chemical Engineering)\n",
       "4                    Engineering (Engineering Science)\n",
       "..                                                 ...\n",
       "734  Art, Theory, and Criticism with a Specializati...\n",
       "735  Art, Theory, and Criticism with a Specializati...\n",
       "736  Art, Theory, and Criticism with a Specializati...\n",
       "737                                    Women's Studies\n",
       "738                                    Women's Studies\n",
       "\n",
       "[739 rows x 1 columns]"
      ]
     },
     "execution_count": 103,
     "metadata": {},
     "output_type": "execute_result"
    }
   ],
   "source": [
    "df = pd.read_excel('isis_major_code_list.xlsx', 'Major Codes')\n",
    "\n",
    "majors_only = df.copy()[['Diploma Title']]\n",
    "\n",
    "majors_only = majors_only.dropna().reset_index(drop=True)\n",
    "\n",
    "majors_only"
   ]
  },
  {
   "cell_type": "code",
   "execution_count": 104,
   "id": "2d237e41",
   "metadata": {},
   "outputs": [
    {
     "data": {
      "text/html": [
       "<div>\n",
       "<style scoped>\n",
       "    .dataframe tbody tr th:only-of-type {\n",
       "        vertical-align: middle;\n",
       "    }\n",
       "\n",
       "    .dataframe tbody tr th {\n",
       "        vertical-align: top;\n",
       "    }\n",
       "\n",
       "    .dataframe thead th {\n",
       "        text-align: right;\n",
       "    }\n",
       "</style>\n",
       "<table border=\"1\" class=\"dataframe\">\n",
       "  <thead>\n",
       "    <tr style=\"text-align: right;\">\n",
       "      <th></th>\n",
       "      <th>Department</th>\n",
       "      <th>Diploma Title</th>\n",
       "    </tr>\n",
       "  </thead>\n",
       "  <tbody>\n",
       "    <tr>\n",
       "      <th>0</th>\n",
       "      <td>AAS</td>\n",
       "      <td>Black Diaspora &amp; African American Studies</td>\n",
       "    </tr>\n",
       "    <tr>\n",
       "      <th>13</th>\n",
       "      <td>AMES</td>\n",
       "      <td>Applied Science (Applied Mechanics)</td>\n",
       "    </tr>\n",
       "    <tr>\n",
       "      <th>17</th>\n",
       "      <td>AMES</td>\n",
       "      <td>Bioengineering</td>\n",
       "    </tr>\n",
       "    <tr>\n",
       "      <th>18</th>\n",
       "      <td>AMES</td>\n",
       "      <td>Engineering (Chemical Engineering)</td>\n",
       "    </tr>\n",
       "    <tr>\n",
       "      <th>19</th>\n",
       "      <td>AMES</td>\n",
       "      <td>Engineering (Engineering Science)</td>\n",
       "    </tr>\n",
       "    <tr>\n",
       "      <th>...</th>\n",
       "      <td>...</td>\n",
       "      <td>...</td>\n",
       "    </tr>\n",
       "    <tr>\n",
       "      <th>948</th>\n",
       "      <td>VIS</td>\n",
       "      <td>Art, Theory, and Criticism with a Concentratio...</td>\n",
       "    </tr>\n",
       "    <tr>\n",
       "      <th>949</th>\n",
       "      <td>VIS</td>\n",
       "      <td>Art, Theory, and Criticism with a Specializati...</td>\n",
       "    </tr>\n",
       "    <tr>\n",
       "      <th>950</th>\n",
       "      <td>VIS</td>\n",
       "      <td>Art, Theory, and Criticism with a Specializati...</td>\n",
       "    </tr>\n",
       "    <tr>\n",
       "      <th>951</th>\n",
       "      <td>VIS</td>\n",
       "      <td>Art, Theory, and Criticism with a Specializati...</td>\n",
       "    </tr>\n",
       "    <tr>\n",
       "      <th>952</th>\n",
       "      <td>WOMN</td>\n",
       "      <td>Women's Studies</td>\n",
       "    </tr>\n",
       "  </tbody>\n",
       "</table>\n",
       "<p>547 rows × 2 columns</p>\n",
       "</div>"
      ],
      "text/plain": [
       "    Department                                      Diploma Title\n",
       "0          AAS          Black Diaspora & African American Studies\n",
       "13        AMES                Applied Science (Applied Mechanics)\n",
       "17        AMES                                     Bioengineering\n",
       "18        AMES                 Engineering (Chemical Engineering)\n",
       "19        AMES                  Engineering (Engineering Science)\n",
       "..         ...                                                ...\n",
       "948        VIS  Art, Theory, and Criticism with a Concentratio...\n",
       "949        VIS  Art, Theory, and Criticism with a Specializati...\n",
       "950        VIS  Art, Theory, and Criticism with a Specializati...\n",
       "951        VIS  Art, Theory, and Criticism with a Specializati...\n",
       "952       WOMN                                    Women's Studies\n",
       "\n",
       "[547 rows x 2 columns]"
      ]
     },
     "execution_count": 104,
     "metadata": {},
     "output_type": "execute_result"
    }
   ],
   "source": [
    "all_titles = df[['Department', 'Diploma Title']].drop_duplicates().dropna()\n",
    "all_titles"
   ]
  },
  {
   "cell_type": "markdown",
   "id": "46ab03cc",
   "metadata": {},
   "source": [
    "## Marshall"
   ]
  },
  {
   "cell_type": "code",
   "execution_count": 4,
   "id": "b45f3515",
   "metadata": {},
   "outputs": [],
   "source": [
    "marshall_url = 'https://marshall.ucsd.edu/academics/general-education-requirements.html'\n",
    "res = requests.get(marshall_url)\n",
    "soup = BeautifulSoup(res.text)"
   ]
  },
  {
   "cell_type": "code",
   "execution_count": 5,
   "id": "61504f8f",
   "metadata": {},
   "outputs": [
    {
     "data": {
      "text/plain": [
       "['DOC 1: Diversity', 'DOC 2: Justice', 'DOC 3: Imagination']"
      ]
     },
     "execution_count": 5,
     "metadata": {},
     "output_type": "execute_result"
    }
   ],
   "source": [
    "doc = soup.find_all('li', attrs={\"class\":\"dropdown open\"})[3]\n",
    "doc = [doc_class.text for doc_class in doc.find_all('li') if 'DOC ' and ':' in doc_class.text]\n",
    "doc"
   ]
  },
  {
   "cell_type": "code",
   "execution_count": 6,
   "id": "7f67985b",
   "metadata": {},
   "outputs": [
    {
     "data": {
      "text/plain": [
       "[<ul class=\"list-group\">\n",
       " <li class=\"list-group-item\">ANTH 2</li>\n",
       " <li class=\"list-group-item\">COGS 17</li>\n",
       " <li class=\"list-group-item\">BILD 1, 2, 3, 7, 10, 12, 18, 20, 22, 26, 28, 30, 32, 36, 38, 42, 46, 61</li>\n",
       " </ul>,\n",
       " <ul class=\"list-group\">\n",
       " <li class=\"list-group-item\">CHEM 4, 6A, 6B, 6C, 6AH, 6BH, 6CH, 11, 12, 13</li>\n",
       " </ul>,\n",
       " <ul class=\"list-group\">\n",
       " <li class=\"list-group-item\">PHYS 1A &amp; 1AL, 1B &amp; 1BL, 1C &amp; 1CL, 2A, 2B, 2C, 4A, 4B, 4C, 5, 7, 8, 9, 10, 11, 12, 13</li>\n",
       " <li class=\"list-group-item\">SIO 1, 10, 12, 15, 16, 20, 30, 35, 40, 45, 50</li>\n",
       " </ul>,\n",
       " <ul class=\"list-group\">\n",
       " <li class=\"list-group-item\">Biology (BIEB) 100</li>\n",
       " <li class=\"list-group-item\">MATH 3C</li>\n",
       " <li class=\"list-group-item\">MATH 4C</li>\n",
       " <li class=\"list-group-item\">MATH 10A, 10B, or 10C</li>\n",
       " <li class=\"list-group-item\">MATH 11</li>\n",
       " <li class=\"list-group-item\">MATH 20A, 20B, or 20C</li>\n",
       " <li class=\"list-group-item\">MATH 180A or 181A</li>\n",
       " </ul>,\n",
       " <ul class=\"list-group\">\n",
       " <li class=\"list-group-item\">Cognitive Science (COGS) 14A</li>\n",
       " <li class=\"list-group-item\">Human Developmental Sciences (HDS) 60</li>\n",
       " <li class=\"list-group-item\">Political Science (POLI) 30</li>\n",
       " <li class=\"list-group-item\">Psychology (PSYC) 60</li>\n",
       " <li class=\"list-group-item\">Sociology (SOCI) 60</li>\n",
       " </ul>,\n",
       " <ul class=\"list-group\">\n",
       " <li class=\"list-group-item\">BILD 62</li>\n",
       " <li class=\"list-group-item\">COGS 18</li>\n",
       " <li class=\"list-group-item\">CSE 6R, 8A or 11</li>\n",
       " <li class=\"list-group-item\">CSS 1</li>\n",
       " <li class=\"list-group-item\">Linguistics (LIGN) 17</li>\n",
       " <li class=\"list-group-item\">MAE 5, 9 or 10</li>\n",
       " <li class=\"list-group-item\">Philosophy (PHIL) 10 or 12</li>\n",
       " </ul>,\n",
       " <ul class=\"list-group\">\n",
       " <li class=\"list-group-item\">African American Studies (AAS) 10, 11, 14, 15</li>\n",
       " <li class=\"list-group-item\">Ethnic Studies (ETHN) 1, 2, 3 or 20</li>\n",
       " <li class=\"list-group-item\">History (HILD) 7A, 7B, 7C, 10, 11, 12 or 14</li>\n",
       " <li class=\"list-group-item\">Latin American Studies (LATI) 10, 50</li>\n",
       " <li class=\"list-group-item\">Literatures in English (LTEN) 27, 28 or 29</li>\n",
       " <li class=\"list-group-item\">Literatures in Cultural Studies (LTCS) 50, 52</li>\n",
       " <li class=\"list-group-item\">Study of Religion (RELI) 2</li>\n",
       " <li class=\"list-group-item\">Global South Studies (GSS) 20, 21, 22, 23, 24, 25, 26 or 27 (formerly Third World Studies [TWS])</li>\n",
       " </ul>,\n",
       " <ul class=\"list-group\">\n",
       " <li class=\"list-group-item\">Music (MUS) 4 - 19, 20, *80</li>\n",
       " <li class=\"list-group-item\">Theatre/General (TDGE) 1, 5, 10-12</li>\n",
       " <li class=\"list-group-item\">Theatre/History (TDHT) 21, 22, 23</li>\n",
       " <li class=\"list-group-item\">Visual Arts (VIS) 1-3, 20-22 or 84</li>\n",
       " </ul>]"
      ]
     },
     "execution_count": 6,
     "metadata": {},
     "output_type": "execute_result"
    }
   ],
   "source": [
    "content = soup.find('div', attrs = {'class':'drawer dark-theme'})\n",
    "marsh_classes = content.find_all('ul', attrs = {'class':'list-group'})\n",
    "marsh_classes"
   ]
  },
  {
   "cell_type": "code",
   "execution_count": 129,
   "id": "31487db4",
   "metadata": {},
   "outputs": [
    {
     "data": {
      "text/plain": [
       "[['BILD 1',\n",
       "  'BILD 2',\n",
       "  'BILD 3',\n",
       "  'BILD 7',\n",
       "  'BILD 10',\n",
       "  'BILD 12',\n",
       "  'BILD 18',\n",
       "  'BILD 20',\n",
       "  'BILD 22',\n",
       "  'BILD 26',\n",
       "  'BILD 28',\n",
       "  'BILD 30',\n",
       "  'BILD 32',\n",
       "  'BILD 36',\n",
       "  'BILD 38',\n",
       "  'BILD 42',\n",
       "  'BILD 46',\n",
       "  'BILD 61'],\n",
       " ['CHEM 4',\n",
       "  'CHEM 6A',\n",
       "  'CHEM 6B',\n",
       "  'CHEM 6C',\n",
       "  'CHEM 6AH',\n",
       "  'CHEM 6BH',\n",
       "  'CHEM 6CH',\n",
       "  'CHEM 11',\n",
       "  'CHEM 12',\n",
       "  'CHEM 13'],\n",
       " ['SIO 1',\n",
       "  'SIO 10',\n",
       "  'SIO 12',\n",
       "  'SIO 15',\n",
       "  'SIO 16',\n",
       "  'SIO 20',\n",
       "  'SIO 30',\n",
       "  'SIO 35',\n",
       "  'SIO 40',\n",
       "  'SIO 45',\n",
       "  'SIO 50'],\n",
       " ['MATH 180A ', 'MATH 181A'],\n",
       " ['Sociology (SOCI) 60'],\n",
       " ['Philosophy (PHIL) 10 ', 'Philosophy 12'],\n",
       " ['Global South Studies (GSS) 20',\n",
       "  'Global 21',\n",
       "  'Global 22',\n",
       "  'Global 23',\n",
       "  'Global 24',\n",
       "  'Global 25',\n",
       "  'Global 26 ',\n",
       "  'Global 27 (f',\n",
       "  'Globalmerly Third W',\n",
       "  'Globalld Studies [TWS])'],\n",
       " ['Visual Arts (VIS) 1-3', 'Visual 20-22 ', 'Visual 84']]"
      ]
     },
     "execution_count": 129,
     "metadata": {},
     "output_type": "execute_result"
    }
   ],
   "source": [
    "marshall_ges = []\n",
    "\n",
    "for i in range(len(marsh_classes)):\n",
    "\n",
    "    this_req = marsh_classes[i]\n",
    "    this_req = [this_class.text for this_class in this_req.find_all('li')]\n",
    "    \n",
    "    for option in range(len(this_req)):\n",
    "\n",
    "        these = []\n",
    "\n",
    "        if len(this_req[option].split(',')) > 1:\n",
    "            \n",
    "            course_code = this_req[option].split(',')[0].split()[0]\n",
    "            listed = ([this_req[option].split(',')[0]] + \n",
    "                        [(course_code + course_num.replace('or', '')) \n",
    "                        for course_num in this_req[option].replace('or', ',or').split(',')[1:]]\n",
    "                        )\n",
    "            \n",
    "            these += listed\n",
    "            \n",
    "        elif len(this_req[option].split('or')) > 1:\n",
    "            course_code = this_req[option].split('or')[0].split()[0]\n",
    "            listed = [this_req[option].split('or')[0], course_code + this_req[option].split('or')[1]]\n",
    "            these += listed\n",
    "            \n",
    "        else:\n",
    "            these.append(this_req[option])\n",
    "\n",
    "    marshall_ges.append(these)\n",
    "\n",
    "marshall_ges"
   ]
  },
  {
   "cell_type": "code",
   "execution_count": 132,
   "id": "681426c3",
   "metadata": {},
   "outputs": [
    {
     "data": {
      "text/plain": [
       "{'Biology': ['BILD 1',\n",
       "  'BILD 2',\n",
       "  'BILD 3',\n",
       "  'BILD 7',\n",
       "  'BILD 10',\n",
       "  'BILD 12',\n",
       "  'BILD 18',\n",
       "  'BILD 20',\n",
       "  'BILD 22',\n",
       "  'BILD 26',\n",
       "  'BILD 28',\n",
       "  'BILD 30',\n",
       "  'BILD 32',\n",
       "  'BILD 36',\n",
       "  'BILD 38',\n",
       "  'BILD 42',\n",
       "  'BILD 46',\n",
       "  'BILD 61'],\n",
       " 'Chemistry': ['CHEM 4',\n",
       "  'CHEM 6A',\n",
       "  'CHEM 6B',\n",
       "  'CHEM 6C',\n",
       "  'CHEM 6AH',\n",
       "  'CHEM 6BH',\n",
       "  'CHEM 6CH',\n",
       "  'CHEM 11',\n",
       "  'CHEM 12',\n",
       "  'CHEM 13'],\n",
       " 'Physics': ['SIO 1',\n",
       "  'SIO 10',\n",
       "  'SIO 12',\n",
       "  'SIO 15',\n",
       "  'SIO 16',\n",
       "  'SIO 20',\n",
       "  'SIO 30',\n",
       "  'SIO 35',\n",
       "  'SIO 40',\n",
       "  'SIO 45',\n",
       "  'SIO 50'],\n",
       " 'Mathematics, Advanced Statistics': ['MATH 180A ', 'MATH 181A'],\n",
       " 'Introductory Statistics': ['Sociology (SOCI) 60'],\n",
       " 'Computer Programming & Logic': ['Philosophy (PHIL) 10 ', 'Philosophy 12'],\n",
       " 'Humanities and Cultural Studies\\xa0': ['Global South Studies (GSS) 20',\n",
       "  'Global 21',\n",
       "  'Global 22',\n",
       "  'Global 23',\n",
       "  'Global 24',\n",
       "  'Global 25',\n",
       "  'Global 26 ',\n",
       "  'Global 27 (f',\n",
       "  'Globalmerly Third W',\n",
       "  'Globalld Studies [TWS])'],\n",
       " 'Fine Arts': ['Visual Arts (VIS) 1-3', 'Visual 20-22 ', 'Visual 84']}"
      ]
     },
     "execution_count": 132,
     "metadata": {},
     "output_type": "execute_result"
    }
   ],
   "source": [
    "subdivs = content.find_all('h3', attrs={'class':'panel-title'})\n",
    "#doc_un = subdivs[0]\n",
    "docless = [sub.text for sub in subdivs][3:]\n",
    "marshall_docless_ges = dict(zip(docless, marshall_ges))\n",
    "marshall_docless_ges"
   ]
  },
  {
   "cell_type": "code",
   "execution_count": 133,
   "id": "df6656b1",
   "metadata": {},
   "outputs": [
    {
     "data": {
      "text/plain": [
       "['Dimensions of Culture (3 courses) ',\n",
       " 'Natural Science (3 courses)',\n",
       " 'Mathematics, Statistics and Logic (2 courses)',\n",
       " 'Humanities and Cultural Studies (2 courses)',\n",
       " 'Fine Arts (1 course)',\n",
       " 'Disciplinary Breadth (4 courses)']"
      ]
     },
     "execution_count": 133,
     "metadata": {},
     "output_type": "execute_result"
    }
   ],
   "source": [
    "marsh_ge = [section.find('a').text for section in soup.find_all('h2') if section.find('a') and section.find('a').attrs == {'href': '#'}]\n",
    "marsh_ge"
   ]
  },
  {
   "cell_type": "markdown",
   "id": "92ad196a",
   "metadata": {},
   "source": [
    "## ERC"
   ]
  },
  {
   "cell_type": "code",
   "execution_count": 12,
   "id": "941cc9d8",
   "metadata": {},
   "outputs": [],
   "source": [
    "erc_url = 'https://roosevelt.ucsd.edu/academics/gen-ed/index.html'\n",
    "erc_res = requests.get(erc_url)\n",
    "erc_soup = BeautifulSoup(erc_res.text)"
   ]
  },
  {
   "cell_type": "code",
   "execution_count": 93,
   "id": "1eccb40b",
   "metadata": {},
   "outputs": [
    {
     "data": {
      "text/plain": [
       "'MMW 11, 12, 13, 14, 15 '"
      ]
     },
     "execution_count": 93,
     "metadata": {},
     "output_type": "execute_result"
    }
   ],
   "source": [
    "erc_writing = erc_soup.find('h3').text\n",
    "erc_writing\n",
    "#mmw = erc_soup.find('em').text"
   ]
  },
  {
   "cell_type": "code",
   "execution_count": 94,
   "id": "50ef9a0e",
   "metadata": {},
   "outputs": [
    {
     "data": {
      "text/plain": [
       "[<a href=\"#\">Making of the Modern World</a>,\n",
       " <a href=\"#\">Quantitative &amp; Formal Skills</a>,\n",
       " <a href=\"#\">Natural Sciences</a>,\n",
       " <a href=\"#\">Language</a>,\n",
       " <a href=\"#\">Fine Arts</a>,\n",
       " <a href=\"#\">Regional Specialization</a>,\n",
       " <a href=\"#\">Upper-Division Writing Requirement</a>,\n",
       " <a href=\"#\">IGETC or Partial IGETC Certification Agreement (noted on Academic History)</a>,\n",
       " <a href=\"#\">UC Reciprocity Agreement and Partially Completed UC Reciprocity Exception (letter on file at ERC Advising)</a>,\n",
       " <a href=\"#\">GE Certification Exception or Partial GE Certification Exception (letter on file at ERC Advising)</a>,\n",
       " <a href=\"#\">General Transfer Student (no transfer agreement)</a>,\n",
       " <a href=\"#\">Acceptable Overlap </a>,\n",
       " <a href=\"#\">Not Acceptable Overlap </a>,\n",
       " <a href=\"#\">Double Major Acceptable Overlap</a>,\n",
       " <a href=\"#\">ERC Requirements</a>,\n",
       " <a href=\"#\">University Requirements</a>]"
      ]
     },
     "execution_count": 94,
     "metadata": {},
     "output_type": "execute_result"
    }
   ],
   "source": [
    "erc_req_names = erc_soup.find_all('a',attrs={'href':'#'})\n",
    "erc_req_names"
   ]
  },
  {
   "cell_type": "code",
   "execution_count": 98,
   "id": "6632cd1b",
   "metadata": {},
   "outputs": [],
   "source": [
    "tables = pd.read_html(erc_url)\n",
    "\n",
    "erc_quantitative = {}\n",
    "erc_quant_names = []\n",
    "\n",
    "# 6 quant courses for erc\n",
    "\n",
    "for i in range(6):\n",
    "    this_req = tables[i]\n",
    "    req_name = this_req.columns[0]\n",
    "    erc_quant_names.append(req_name)\n",
    "    this_req.columns = this_req.iloc[0]\n",
    "    this_req.drop(index=0, inplace=True)\n",
    "\n",
    "    erc_quantitative[req_name] = this_req"
   ]
  },
  {
   "cell_type": "code",
   "execution_count": 99,
   "id": "e82b43d2",
   "metadata": {},
   "outputs": [
    {
     "data": {
      "text/plain": [
       "['Mathematics',\n",
       " 'Computer Programming',\n",
       " 'Formal Logic',\n",
       " 'Statistics',\n",
       " 'Programming',\n",
       " 'Other']"
      ]
     },
     "execution_count": 99,
     "metadata": {},
     "output_type": "execute_result"
    }
   ],
   "source": [
    "erc_quant_names"
   ]
  },
  {
   "cell_type": "code",
   "execution_count": 134,
   "id": "48e4b073",
   "metadata": {},
   "outputs": [
    {
     "data": {
      "text/plain": [
       "[<em>**  Available only to CSE majors Fall quarter</em>,\n",
       " <em> #  Prerequisite for the calculus sequence. Take only if you need calculus for your major.</em>]"
      ]
     },
     "execution_count": 134,
     "metadata": {},
     "output_type": "execute_result"
    }
   ],
   "source": [
    "# special notes \n",
    "erc_soup.find_all('em')[1:3]"
   ]
  },
  {
   "cell_type": "code",
   "execution_count": null,
   "id": "6fba403a",
   "metadata": {},
   "outputs": [],
   "source": []
  },
  {
   "cell_type": "markdown",
   "id": "a68dc246",
   "metadata": {},
   "source": [
    "## Revelle"
   ]
  },
  {
   "cell_type": "code",
   "execution_count": 13,
   "id": "f67b4160",
   "metadata": {},
   "outputs": [],
   "source": [
    "rev_url = 'https://revelle.ucsd.edu/academics/general-education/index.html'\n",
    "revelle_request = requests.get(rev_url)\n",
    "rev_soup = BeautifulSoup(revelle_request.text)"
   ]
  },
  {
   "cell_type": "code",
   "execution_count": 14,
   "id": "14504327",
   "metadata": {},
   "outputs": [],
   "source": [
    "rev_content = rev_soup.find('section', attrs={'aria-label':'Main Content'})\n",
    "\n",
    "rev_reqs = rev_content.find('ul').find_all('li')\n",
    "\n",
    "rev_req_names = [req.find('a').text.replace(' Requirement', '') for req in rev_reqs]\n",
    "\n",
    "rev_links = [req.find('a').get('href') for req in rev_reqs]"
   ]
  },
  {
   "cell_type": "code",
   "execution_count": 15,
   "id": "7be69a10",
   "metadata": {},
   "outputs": [
    {
     "name": "stdout",
     "output_type": "stream",
     "text": [
      "https://revelle.ucsd.edu/academics/general-education/humanities.html\n",
      "https://revelle.ucsd.edu/academics/general-education/mathematics.html\n",
      "https://revelle.ucsd.edu/academics/general-education/nat-science.html\n",
      "https://revelle.ucsd.edu/academics/general-education/soc-science.html\n",
      "https://revelle.ucsd.edu/academics/general-education/fine-arts.html\n",
      "https://revelle.ucsd.edu/academics/general-education/language.html\n"
     ]
    }
   ],
   "source": [
    "for link in rev_links:\n",
    "    linky = f'https://revelle.ucsd.edu/academics/general-education/{link}'\n",
    "    print(linky)"
   ]
  },
  {
   "cell_type": "code",
   "execution_count": 16,
   "id": "518e7751",
   "metadata": {},
   "outputs": [],
   "source": [
    "# pain"
   ]
  },
  {
   "cell_type": "code",
   "execution_count": null,
   "id": "0eef94b3",
   "metadata": {},
   "outputs": [],
   "source": []
  },
  {
   "cell_type": "code",
   "execution_count": null,
   "id": "01174f2b",
   "metadata": {},
   "outputs": [],
   "source": []
  },
  {
   "cell_type": "code",
   "execution_count": null,
   "id": "7f090208",
   "metadata": {},
   "outputs": [],
   "source": []
  },
  {
   "cell_type": "code",
   "execution_count": null,
   "id": "eb036b26",
   "metadata": {},
   "outputs": [],
   "source": []
  },
  {
   "cell_type": "code",
   "execution_count": 17,
   "id": "e2c4397d",
   "metadata": {},
   "outputs": [],
   "source": [
    "# cogs major, has suggested plan\n",
    "cogs_url = 'https://catalog.ucsd.edu/curric/COGS-ug.html'\n",
    "# overlapping, marshall\n",
    "marsh_overlap = 'https://marshall.ucsd.edu/academics/majors-and-minors/majors/ge-overlap-courses.html'"
   ]
  },
  {
   "cell_type": "code",
   "execution_count": null,
   "id": "f75d7d71",
   "metadata": {},
   "outputs": [],
   "source": []
  }
 ],
 "metadata": {
  "kernelspec": {
   "display_name": "Python 3 (ipykernel)",
   "language": "python",
   "name": "python3"
  },
  "language_info": {
   "codemirror_mode": {
    "name": "ipython",
    "version": 3
   },
   "file_extension": ".py",
   "mimetype": "text/x-python",
   "name": "python",
   "nbconvert_exporter": "python",
   "pygments_lexer": "ipython3",
   "version": "3.8.3"
  }
 },
 "nbformat": 4,
 "nbformat_minor": 5
}
