{
 "cells": [
  {
   "cell_type": "code",
   "execution_count": 1,
   "id": "4e2dc63b",
   "metadata": {},
   "outputs": [],
   "source": [
    "import pandas as pd\n",
    "import numpy as np\n",
    "\n",
    "import requests\n",
    "from bs4 import BeautifulSoup"
   ]
  },
  {
   "cell_type": "code",
   "execution_count": 3,
   "id": "70f247e1",
   "metadata": {},
   "outputs": [
    {
     "data": {
      "text/html": [
       "<div>\n",
       "<style scoped>\n",
       "    .dataframe tbody tr th:only-of-type {\n",
       "        vertical-align: middle;\n",
       "    }\n",
       "\n",
       "    .dataframe tbody tr th {\n",
       "        vertical-align: top;\n",
       "    }\n",
       "\n",
       "    .dataframe thead th {\n",
       "        text-align: right;\n",
       "    }\n",
       "</style>\n",
       "<table border=\"1\" class=\"dataframe\">\n",
       "  <thead>\n",
       "    <tr style=\"text-align: right;\">\n",
       "      <th></th>\n",
       "      <th>Diploma Title</th>\n",
       "    </tr>\n",
       "  </thead>\n",
       "  <tbody>\n",
       "    <tr>\n",
       "      <th>0</th>\n",
       "      <td>Black Diaspora &amp; African American Studies</td>\n",
       "    </tr>\n",
       "    <tr>\n",
       "      <th>1</th>\n",
       "      <td>Applied Science (Applied Mechanics)</td>\n",
       "    </tr>\n",
       "    <tr>\n",
       "      <th>2</th>\n",
       "      <td>Bioengineering</td>\n",
       "    </tr>\n",
       "    <tr>\n",
       "      <th>3</th>\n",
       "      <td>Engineering (Chemical Engineering)</td>\n",
       "    </tr>\n",
       "    <tr>\n",
       "      <th>4</th>\n",
       "      <td>Engineering (Engineering Science)</td>\n",
       "    </tr>\n",
       "    <tr>\n",
       "      <th>...</th>\n",
       "      <td>...</td>\n",
       "    </tr>\n",
       "    <tr>\n",
       "      <th>734</th>\n",
       "      <td>Art, Theory, and Criticism with a Specializati...</td>\n",
       "    </tr>\n",
       "    <tr>\n",
       "      <th>735</th>\n",
       "      <td>Art, Theory, and Criticism with a Specializati...</td>\n",
       "    </tr>\n",
       "    <tr>\n",
       "      <th>736</th>\n",
       "      <td>Art, Theory, and Criticism with a Specializati...</td>\n",
       "    </tr>\n",
       "    <tr>\n",
       "      <th>737</th>\n",
       "      <td>Women's Studies</td>\n",
       "    </tr>\n",
       "    <tr>\n",
       "      <th>738</th>\n",
       "      <td>Women's Studies</td>\n",
       "    </tr>\n",
       "  </tbody>\n",
       "</table>\n",
       "<p>739 rows × 1 columns</p>\n",
       "</div>"
      ],
      "text/plain": [
       "                                         Diploma Title\n",
       "0            Black Diaspora & African American Studies\n",
       "1                  Applied Science (Applied Mechanics)\n",
       "2                                       Bioengineering\n",
       "3                   Engineering (Chemical Engineering)\n",
       "4                    Engineering (Engineering Science)\n",
       "..                                                 ...\n",
       "734  Art, Theory, and Criticism with a Specializati...\n",
       "735  Art, Theory, and Criticism with a Specializati...\n",
       "736  Art, Theory, and Criticism with a Specializati...\n",
       "737                                    Women's Studies\n",
       "738                                    Women's Studies\n",
       "\n",
       "[739 rows x 1 columns]"
      ]
     },
     "execution_count": 3,
     "metadata": {},
     "output_type": "execute_result"
    }
   ],
   "source": [
    "df = pd.read_excel('isis_major_code_list.xlsx', 'Major Codes')\n",
    "\n",
    "majors_only = df.copy()[['Diploma Title']]\n",
    "\n",
    "majors_only = majors_only.dropna().reset_index(drop=True)\n",
    "\n",
    "majors_only"
   ]
  },
  {
   "cell_type": "code",
   "execution_count": 47,
   "id": "8ef50609",
   "metadata": {},
   "outputs": [
    {
     "data": {
      "text/html": [
       "<div>\n",
       "<style scoped>\n",
       "    .dataframe tbody tr th:only-of-type {\n",
       "        vertical-align: middle;\n",
       "    }\n",
       "\n",
       "    .dataframe tbody tr th {\n",
       "        vertical-align: top;\n",
       "    }\n",
       "\n",
       "    .dataframe thead th {\n",
       "        text-align: right;\n",
       "    }\n",
       "</style>\n",
       "<table border=\"1\" class=\"dataframe\">\n",
       "  <thead>\n",
       "    <tr style=\"text-align: right;\">\n",
       "      <th></th>\n",
       "      <th>Department</th>\n",
       "      <th>Diploma Title</th>\n",
       "    </tr>\n",
       "  </thead>\n",
       "  <tbody>\n",
       "    <tr>\n",
       "      <th>0</th>\n",
       "      <td>AAS</td>\n",
       "      <td>Black Diaspora &amp; African American Studies</td>\n",
       "    </tr>\n",
       "    <tr>\n",
       "      <th>13</th>\n",
       "      <td>AMES</td>\n",
       "      <td>Applied Science (Applied Mechanics)</td>\n",
       "    </tr>\n",
       "    <tr>\n",
       "      <th>17</th>\n",
       "      <td>AMES</td>\n",
       "      <td>Bioengineering</td>\n",
       "    </tr>\n",
       "    <tr>\n",
       "      <th>18</th>\n",
       "      <td>AMES</td>\n",
       "      <td>Engineering (Chemical Engineering)</td>\n",
       "    </tr>\n",
       "    <tr>\n",
       "      <th>19</th>\n",
       "      <td>AMES</td>\n",
       "      <td>Engineering (Engineering Science)</td>\n",
       "    </tr>\n",
       "    <tr>\n",
       "      <th>...</th>\n",
       "      <td>...</td>\n",
       "      <td>...</td>\n",
       "    </tr>\n",
       "    <tr>\n",
       "      <th>948</th>\n",
       "      <td>VIS</td>\n",
       "      <td>Art, Theory, and Criticism with a Concentratio...</td>\n",
       "    </tr>\n",
       "    <tr>\n",
       "      <th>949</th>\n",
       "      <td>VIS</td>\n",
       "      <td>Art, Theory, and Criticism with a Specializati...</td>\n",
       "    </tr>\n",
       "    <tr>\n",
       "      <th>950</th>\n",
       "      <td>VIS</td>\n",
       "      <td>Art, Theory, and Criticism with a Specializati...</td>\n",
       "    </tr>\n",
       "    <tr>\n",
       "      <th>951</th>\n",
       "      <td>VIS</td>\n",
       "      <td>Art, Theory, and Criticism with a Specializati...</td>\n",
       "    </tr>\n",
       "    <tr>\n",
       "      <th>952</th>\n",
       "      <td>WOMN</td>\n",
       "      <td>Women's Studies</td>\n",
       "    </tr>\n",
       "  </tbody>\n",
       "</table>\n",
       "<p>547 rows × 2 columns</p>\n",
       "</div>"
      ],
      "text/plain": [
       "    Department                                      Diploma Title\n",
       "0          AAS          Black Diaspora & African American Studies\n",
       "13        AMES                Applied Science (Applied Mechanics)\n",
       "17        AMES                                     Bioengineering\n",
       "18        AMES                 Engineering (Chemical Engineering)\n",
       "19        AMES                  Engineering (Engineering Science)\n",
       "..         ...                                                ...\n",
       "948        VIS  Art, Theory, and Criticism with a Concentratio...\n",
       "949        VIS  Art, Theory, and Criticism with a Specializati...\n",
       "950        VIS  Art, Theory, and Criticism with a Specializati...\n",
       "951        VIS  Art, Theory, and Criticism with a Specializati...\n",
       "952       WOMN                                    Women's Studies\n",
       "\n",
       "[547 rows x 2 columns]"
      ]
     },
     "execution_count": 47,
     "metadata": {},
     "output_type": "execute_result"
    }
   ],
   "source": [
    "df[['Department', 'Diploma Title']].drop_duplicates().dropna()"
   ]
  },
  {
   "cell_type": "markdown",
   "id": "1af2b054",
   "metadata": {},
   "source": [
    "## Marshall"
   ]
  },
  {
   "cell_type": "code",
   "execution_count": 4,
   "id": "b45f3515",
   "metadata": {},
   "outputs": [],
   "source": [
    "marshall_url = 'https://marshall.ucsd.edu/academics/general-education-requirements.html'\n",
    "res = requests.get(marshall_url)\n",
    "soup = BeautifulSoup(res.text)"
   ]
  },
  {
   "cell_type": "code",
   "execution_count": 6,
   "id": "61504f8f",
   "metadata": {},
   "outputs": [
    {
     "data": {
      "text/plain": [
       "['DOC 1: Diversity', 'DOC 2: Justice', 'DOC 3: Imagination']"
      ]
     },
     "execution_count": 6,
     "metadata": {},
     "output_type": "execute_result"
    }
   ],
   "source": [
    "doc = soup.find_all('li', attrs={\"class\":\"dropdown open\"})[3]\n",
    "doc = [doc_class.text for doc_class in doc.find_all('li') if 'DOC ' and ':' in doc_class.text]\n",
    "doc"
   ]
  },
  {
   "cell_type": "code",
   "execution_count": 20,
   "id": "7f67985b",
   "metadata": {},
   "outputs": [
    {
     "data": {
      "text/plain": [
       "[<ul class=\"list-group\">\n",
       " <li class=\"list-group-item\">ANTH 2</li>\n",
       " <li class=\"list-group-item\">COGS 17</li>\n",
       " <li class=\"list-group-item\">BILD 1, 2, 3, 7, 10, 12, 18, 20, 22, 26, 28, 30, 32, 36, 38, 42, 46, 61</li>\n",
       " </ul>,\n",
       " <ul class=\"list-group\">\n",
       " <li class=\"list-group-item\">CHEM 4, 6A, 6B, 6C, 6AH, 6BH, 6CH, 11, 12, 13</li>\n",
       " </ul>,\n",
       " <ul class=\"list-group\">\n",
       " <li class=\"list-group-item\">PHYS 1A &amp; 1AL, 1B &amp; 1BL, 1C &amp; 1CL, 2A, 2B, 2C, 4A, 4B, 4C, 5, 7, 8, 9, 10, 11, 12, 13</li>\n",
       " <li class=\"list-group-item\">SIO 1, 10, 12, 15, 16, 20, 30, 35, 40, 45, 50</li>\n",
       " </ul>,\n",
       " <ul class=\"list-group\">\n",
       " <li class=\"list-group-item\">Biology (BIEB) 100</li>\n",
       " <li class=\"list-group-item\">MATH 3C</li>\n",
       " <li class=\"list-group-item\">MATH 4C</li>\n",
       " <li class=\"list-group-item\">MATH 10A, 10B, or 10C</li>\n",
       " <li class=\"list-group-item\">MATH 11</li>\n",
       " <li class=\"list-group-item\">MATH 20A, 20B, or 20C</li>\n",
       " <li class=\"list-group-item\">MATH 180A or 181A</li>\n",
       " </ul>,\n",
       " <ul class=\"list-group\">\n",
       " <li class=\"list-group-item\">Cognitive Science (COGS) 14A</li>\n",
       " <li class=\"list-group-item\">Human Developmental Sciences (HDS) 60</li>\n",
       " <li class=\"list-group-item\">Political Science (POLI) 30</li>\n",
       " <li class=\"list-group-item\">Psychology (PSYC) 60</li>\n",
       " <li class=\"list-group-item\">Sociology (SOCI) 60</li>\n",
       " </ul>,\n",
       " <ul class=\"list-group\">\n",
       " <li class=\"list-group-item\">BILD 62</li>\n",
       " <li class=\"list-group-item\">COGS 18</li>\n",
       " <li class=\"list-group-item\">CSE 6R, 8A or 11</li>\n",
       " <li class=\"list-group-item\">CSS 1</li>\n",
       " <li class=\"list-group-item\">Linguistics (LIGN) 17</li>\n",
       " <li class=\"list-group-item\">MAE 5, 9 or 10</li>\n",
       " <li class=\"list-group-item\">Philosophy (PHIL) 10 or 12</li>\n",
       " </ul>,\n",
       " <ul class=\"list-group\">\n",
       " <li class=\"list-group-item\">African American Studies (AAS) 10, 11, 14, 15</li>\n",
       " <li class=\"list-group-item\">Ethnic Studies (ETHN) 1, 2, 3 or 20</li>\n",
       " <li class=\"list-group-item\">History (HILD) 7A, 7B, 7C, 10, 11, 12 or 14</li>\n",
       " <li class=\"list-group-item\">Latin American Studies (LATI) 10, 50</li>\n",
       " <li class=\"list-group-item\">Literatures in English (LTEN) 27, 28 or 29</li>\n",
       " <li class=\"list-group-item\">Literatures in Cultural Studies (LTCS) 50, 52</li>\n",
       " <li class=\"list-group-item\">Study of Religion (RELI) 2</li>\n",
       " <li class=\"list-group-item\">Global South Studies (GSS) 20, 21, 22, 23, 24, 25, 26 or 27 (formerly Third World Studies [TWS])</li>\n",
       " </ul>,\n",
       " <ul class=\"list-group\">\n",
       " <li class=\"list-group-item\">Music (MUS) 4 - 19, 20, *80</li>\n",
       " <li class=\"list-group-item\">Theatre/General (TDGE) 1, 5, 10-12</li>\n",
       " <li class=\"list-group-item\">Theatre/History (TDHT) 21, 22, 23</li>\n",
       " <li class=\"list-group-item\">Visual Arts (VIS) 1-3, 20-22 or 84</li>\n",
       " </ul>]"
      ]
     },
     "execution_count": 20,
     "metadata": {},
     "output_type": "execute_result"
    }
   ],
   "source": [
    "content = soup.find('div', attrs = {'class':'drawer dark-theme'})\n",
    "all_classes = content.find_all('ul', attrs = {'class':'list-group'})\n",
    "all_classes"
   ]
  },
  {
   "cell_type": "code",
   "execution_count": 46,
   "id": "df6656b1",
   "metadata": {},
   "outputs": [
    {
     "data": {
      "text/plain": [
       "['Dimensions of Culture (3 courses) ',\n",
       " 'Natural Science (3 courses)',\n",
       " 'Mathematics, Statistics and Logic (2 courses)',\n",
       " 'Humanities and Cultural Studies (2 courses)',\n",
       " 'Fine Arts (1 course)',\n",
       " 'Disciplinary Breadth (4 courses)']"
      ]
     },
     "execution_count": 46,
     "metadata": {},
     "output_type": "execute_result"
    }
   ],
   "source": [
    "marsh_ge = [section.find('a').text for section in soup.find_all('h2') if section.find('a') and section.find('a').attrs == {'href': '#'}]\n",
    "marsh_ge"
   ]
  },
  {
   "cell_type": "code",
   "execution_count": null,
   "id": "e2e86e49",
   "metadata": {},
   "outputs": [],
   "source": []
  },
  {
   "cell_type": "code",
   "execution_count": null,
   "id": "b1355d4c",
   "metadata": {},
   "outputs": [],
   "source": []
  },
  {
   "cell_type": "code",
   "execution_count": null,
   "id": "cc421613",
   "metadata": {},
   "outputs": [],
   "source": []
  },
  {
   "cell_type": "code",
   "execution_count": 27,
   "id": "a4dd2518",
   "metadata": {},
   "outputs": [],
   "source": [
    "# cogs major, has suggested plan\n",
    "cogs_url = 'https://catalog.ucsd.edu/curric/COGS-ug.html'\n",
    "# overlapping, marshall\n",
    "marsh_overlap = 'https://marshall.ucsd.edu/academics/majors-and-minors/majors/ge-overlap-courses.html'"
   ]
  },
  {
   "cell_type": "code",
   "execution_count": null,
   "id": "0c37dbe0",
   "metadata": {},
   "outputs": [],
   "source": []
  }
 ],
 "metadata": {
  "kernelspec": {
   "display_name": "Python 3 (ipykernel)",
   "language": "python",
   "name": "python3"
  },
  "language_info": {
   "codemirror_mode": {
    "name": "ipython",
    "version": 3
   },
   "file_extension": ".py",
   "mimetype": "text/x-python",
   "name": "python",
   "nbconvert_exporter": "python",
   "pygments_lexer": "ipython3",
   "version": "3.9.13"
  }
 },
 "nbformat": 4,
 "nbformat_minor": 5
}
